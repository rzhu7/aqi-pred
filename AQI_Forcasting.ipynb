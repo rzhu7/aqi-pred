{
  "nbformat": 4,
  "nbformat_minor": 0,
  "metadata": {
    "colab": {
      "provenance": [],
      "authorship_tag": "ABX9TyO4bsg14GwGFCLuZc4KE5EZ",
      "include_colab_link": true
    },
    "kernelspec": {
      "name": "python3",
      "display_name": "Python 3"
    },
    "language_info": {
      "name": "python"
    }
  },
  "cells": [
    {
      "cell_type": "markdown",
      "metadata": {
        "id": "view-in-github",
        "colab_type": "text"
      },
      "source": [
        "<a href=\"https://colab.research.google.com/github/rzhu7/aqi-pred/blob/main/AQI_Forcasting.ipynb\" target=\"_parent\"><img src=\"https://colab.research.google.com/assets/colab-badge.svg\" alt=\"Open In Colab\"/></a>"
      ]
    },
    {
      "cell_type": "code",
      "execution_count": null,
      "metadata": {
        "id": "H8ws7NkFyghK"
      },
      "outputs": [],
      "source": [
        "!pip install neuralforecast\n",
        "\n",
        "from google.colab import files\n",
        "files.upload()\n",
        "\n",
        "import pandas as pd\n",
        "import matplotlib.pyplot as plt\n",
        "\n",
        "import datetime"
      ]
    },
    {
      "cell_type": "code",
      "source": [
        "#df = pd.read_csv('C:/Users/Ruiku/Desktop/Folders/Coding/AI/133494142604384703TelemetryData - Copy.csv')\n",
        "\n",
        "#for i in range(0, len(df['x'])):\n",
        "  #df['x'][i] = datetime.datetime.strptime(df['x'][i], '%m/%d/%y %H:%M')\n",
        "# see also pd.to_datetime -- this would accept a string that is already formatted correctly and then turn it into a DateTime object.\n",
        "# our problem is that the string isn't formatted properly in the first place, so use a for loop and datetime.strptime()\n",
        "# note that we can use %H even though the data in the csv is not padded with zeros (i.e. the doc has 1:00 instead of 01:00)\n",
        "# see note 9 here for explanation: https://docs.python.org/3/library/datetime.html#strftime-and-strptime-behavior\n",
        "#df.head()"
      ],
      "metadata": {
        "id": "9cNt_O5Dy1B-"
      },
      "execution_count": 4,
      "outputs": []
    }
  ]
}